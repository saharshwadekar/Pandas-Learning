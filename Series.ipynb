{
 "cells": [
  {
   "cell_type": "code",
   "execution_count": 1,
   "id": "9c89c866",
   "metadata": {},
   "outputs": [
    {
     "name": "stdout",
     "output_type": "stream",
     "text": [
      "0    1\n",
      "1    2\n",
      "2    3\n",
      "3    4\n",
      "dtype: int64\n"
     ]
    }
   ],
   "source": [
    "#series\n",
    "import pandas as pd\n",
    "a = [1,2,3,4]\n",
    "var = pd.Series(a) #a one-dimensional array holding data of any type.\n",
    "print(var)"
   ]
  },
  {
   "cell_type": "code",
   "execution_count": 5,
   "id": "2efd9889",
   "metadata": {},
   "outputs": [
    {
     "name": "stdout",
     "output_type": "stream",
     "text": [
      "1\n"
     ]
    }
   ],
   "source": [
    "#Labels\n",
    "import pandas as pd\n",
    "a = [1,2,3,4]\n",
    "var = pd.Series(a) #a one-dimensional array holding data of any type.\n",
    "# print(var)\n",
    "print(var[0])"
   ]
  },
  {
   "cell_type": "code",
   "execution_count": 10,
   "id": "889e9e44",
   "metadata": {},
   "outputs": [
    {
     "name": "stdout",
     "output_type": "stream",
     "text": [
      "x    1\n",
      "y    2\n",
      "z    3\n",
      "dtype: int64\n",
      "Value at index 'y': 2\n"
     ]
    }
   ],
   "source": [
    "#Creating lable\n",
    "import pandas as pd\n",
    "a = [1,2,3]\n",
    "var = pd.Series(a,index = [\"x\",\"y\",\"z\"])   # indexing should be matched\n",
    "print(var)\n",
    "print(\"Value at index \\'y\\':\",var[\"y\"])"
   ]
  },
  {
   "cell_type": "code",
   "execution_count": 12,
   "id": "e81d03ae",
   "metadata": {},
   "outputs": [
    {
     "name": "stdout",
     "output_type": "stream",
     "text": [
      "Day1    420\n",
      "Day2    380\n",
      "Day3    390\n",
      "dtype: int64\n"
     ]
    }
   ],
   "source": [
    "import pandas as pd\n",
    "calories = {\n",
    "    \"Day1\":420,\n",
    "    \"Day2\":380,\n",
    "    \"Day3\":390\n",
    "}\n",
    "var = pd.Series(calories)\n",
    "print(var)"
   ]
  },
  {
   "cell_type": "code",
   "execution_count": 13,
   "id": "7693a5ce",
   "metadata": {},
   "outputs": [
    {
     "name": "stdout",
     "output_type": "stream",
     "text": [
      "Day1    420\n",
      "Day3    390\n",
      "dtype: int64\n"
     ]
    }
   ],
   "source": [
    "import pandas as pd\n",
    "calories = {\n",
    "    \"Day1\":420,\n",
    "    \"Day2\":380,\n",
    "    \"Day3\":390\n",
    "}\n",
    "var = pd.Series(calories, index = [\"Day1\",\"Day3\"])\n",
    "print(var)"
   ]
  },
  {
   "cell_type": "code",
   "execution_count": 15,
   "id": "6dc00eec",
   "metadata": {},
   "outputs": [
    {
     "name": "stdout",
     "output_type": "stream",
     "text": [
      "   calories  duration\n",
      "0       420        50\n",
      "1       380        60\n",
      "2       390        70\n"
     ]
    }
   ],
   "source": [
    "#DataFrames ; it is a multidimensional table frame\n",
    "import pandas as pd\n",
    "datasheet = {\n",
    "    \"calories\":[420,380,390],\n",
    "    \"duration\":[50,60,70]\n",
    "}\n",
    "myvar = pd.DataFrame(datasheet)\n",
    "print(myvar)"
   ]
  },
  {
   "cell_type": "code",
   "execution_count": null,
   "id": "32b31894",
   "metadata": {},
   "outputs": [],
   "source": []
  }
 ],
 "metadata": {
  "kernelspec": {
   "display_name": "Python 3 (ipykernel)",
   "language": "python",
   "name": "python3"
  },
  "language_info": {
   "codemirror_mode": {
    "name": "ipython",
    "version": 3
   },
   "file_extension": ".py",
   "mimetype": "text/x-python",
   "name": "python",
   "nbconvert_exporter": "python",
   "pygments_lexer": "ipython3",
   "version": "3.10.2"
  }
 },
 "nbformat": 4,
 "nbformat_minor": 5
}
