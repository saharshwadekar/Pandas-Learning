{
 "cells": [
  {
   "cell_type": "code",
   "execution_count": 1,
   "id": "6533afc7",
   "metadata": {},
   "outputs": [
    {
     "name": "stdout",
     "output_type": "stream",
     "text": [
      "   calories  duration\n",
      "0       420        50\n",
      "1       380        60\n",
      "2       390        70\n"
     ]
    }
   ],
   "source": [
    "#DataFrames ; it is a multidimensional table frame\n",
    "import pandas as pd\n",
    "datasheet = {\n",
    "    \"calories\":[420,380,390],\n",
    "    \"duration\":[50,60,70]\n",
    "}\n",
    "myvar = pd.DataFrame(datasheet)\n",
    "print(myvar)"
   ]
  },
  {
   "cell_type": "code",
   "execution_count": 6,
   "id": "8e496abc",
   "metadata": {},
   "outputs": [
    {
     "name": "stdout",
     "output_type": "stream",
     "text": [
      "   calories  duration\n",
      "0       420        50\n",
      "1       380        60\n"
     ]
    }
   ],
   "source": [
    "import pandas as pd\n",
    "datasheet = {\n",
    "    \"calories\":[420,380,390],\n",
    "    \"duration\":[50,60,70]\n",
    "}\n",
    "myvar = pd.DataFrame(datasheet)\n",
    "# print(myvar)\n",
    "print(myvar.loc[[0,1]])"
   ]
  },
  {
   "cell_type": "code",
   "execution_count": 9,
   "id": "6864a299",
   "metadata": {},
   "outputs": [
    {
     "name": "stdout",
     "output_type": "stream",
     "text": [
      "  Username; Identifier;One-time password;Recovery code;First name;Last name;Department;Location\n",
      "0  booker12;9012;12se74;rb9012;Rachel;Booker;Sale...                                           \n",
      "1  grey07;2070;04ap67;lg2070;Laura;Grey;Depot;London                                           \n",
      "2  johnson81;4081;30no86;cj4081;Craig;Johnson;Dep...                                           \n",
      "3  jenkins46;9346;14ju73;mj9346;Mary;Jenkins;Engi...                                           \n",
      "4  smith79;5079;09ja61;js5079;Jamie;Smith;Enginee...                                           \n"
     ]
    }
   ],
   "source": [
    "#file loading\n",
    "import pandas as pd\n",
    "df = pd.read_csv('upc.csv')\n",
    "print(df)"
   ]
  },
  {
   "cell_type": "code",
   "execution_count": null,
   "id": "d3eb6ccd",
   "metadata": {},
   "outputs": [],
   "source": []
  }
 ],
 "metadata": {
  "kernelspec": {
   "display_name": "Python 3 (ipykernel)",
   "language": "python",
   "name": "python3"
  },
  "language_info": {
   "codemirror_mode": {
    "name": "ipython",
    "version": 3
   },
   "file_extension": ".py",
   "mimetype": "text/x-python",
   "name": "python",
   "nbconvert_exporter": "python",
   "pygments_lexer": "ipython3",
   "version": "3.10.2"
  }
 },
 "nbformat": 4,
 "nbformat_minor": 5
}
