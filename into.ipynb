{
 "cells": [
  {
   "cell_type": "code",
   "execution_count": null,
   "id": "c3f5dee1",
   "metadata": {},
   "outputs": [],
   "source": [
    "# Pandas is an library\n",
    "# and it is used to analyze the data\n"
   ]
  },
  {
   "cell_type": "code",
   "execution_count": 2,
   "id": "3d18ced3",
   "metadata": {},
   "outputs": [
    {
     "name": "stdout",
     "output_type": "stream",
     "text": [
      "    cars  passing\n",
      "0    BMW        3\n",
      "1  Volvo        7\n",
      "2   ford        2\n"
     ]
    }
   ],
   "source": [
    "import pandas as pd\n",
    "mydataset = {\n",
    "    'cars':[\"BMW\",\"Volvo\",\"ford\"],\n",
    "    'passing':[3,7,2]\n",
    "}\n",
    "myvar = pd.DataFrame(mydataset)\n",
    "print(myvar)"
   ]
  },
  {
   "cell_type": "code",
   "execution_count": 3,
   "id": "642c2ee8",
   "metadata": {},
   "outputs": [
    {
     "name": "stdout",
     "output_type": "stream",
     "text": [
      "1.4.4\n"
     ]
    }
   ],
   "source": [
    "import pandas as pd\n",
    "print(pd.__version__)"
   ]
  },
  {
   "cell_type": "code",
   "execution_count": null,
   "id": "66e3f0aa",
   "metadata": {},
   "outputs": [],
   "source": []
  }
 ],
 "metadata": {
  "kernelspec": {
   "display_name": "Python 3 (ipykernel)",
   "language": "python",
   "name": "python3"
  },
  "language_info": {
   "codemirror_mode": {
    "name": "ipython",
    "version": 3
   },
   "file_extension": ".py",
   "mimetype": "text/x-python",
   "name": "python",
   "nbconvert_exporter": "python",
   "pygments_lexer": "ipython3",
   "version": "3.10.2"
  }
 },
 "nbformat": 4,
 "nbformat_minor": 5
}
